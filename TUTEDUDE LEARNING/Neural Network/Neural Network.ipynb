{
 "cells": [
  {
   "cell_type": "code",
   "execution_count": 2,
   "id": "89346d90",
   "metadata": {},
   "outputs": [],
   "source": [
    "#data set\n",
    "\n",
    "#A\n",
    "a= [0,0,1,1,0,0,\n",
    "    0,1,0,0,1,0,\n",
    "    1,1,1,1,1,1,\n",
    "    1,0,0,0,0,1,\n",
    "    1,0,0,0,0,1]\n",
    "#B\n",
    "b= [0,1,1,1,1,0,\n",
    "    0,1,0,0,1,0,\n",
    "    0,1,1,1,1,0,\n",
    "    0,1,0,0,1,0,\n",
    "    0,1,1,1,1,0]\n",
    "#C\n",
    "c=[0,1,1,1,1,0,\n",
    "    0,1,0,0,0,0,\n",
    "    0,1,0,0,0,0,\n",
    "    0,1,0,0,0,0,\n",
    "    0,1,1,1,1,0]"
   ]
  },
  {
   "cell_type": "code",
   "execution_count": 3,
   "id": "ff80bc68",
   "metadata": {},
   "outputs": [],
   "source": [
    "#creating labels\n",
    "y= [[1,0,0],\n",
    "    [0,1,0],\n",
    "    [0,0,1]]"
   ]
  },
  {
   "cell_type": "code",
   "execution_count": 4,
   "id": "f29394bf",
   "metadata": {},
   "outputs": [],
   "source": [
    "import numpy as np\n",
    "import matplotlib.pyplot as plt"
   ]
  },
  {
   "cell_type": "code",
   "execution_count": 5,
   "id": "e6682028",
   "metadata": {},
   "outputs": [],
   "source": [
    "# Convert Data and labels into numpy arrays\n",
    "x = [np.array(a).reshape(1, 30), np.array(b).reshape(1, 30), np.array(c).reshape(1, 30)]\n",
    "y = np.array(y)"
   ]
  },
  {
   "cell_type": "code",
   "execution_count": 6,
   "id": "f1f2d7aa",
   "metadata": {},
   "outputs": [
    {
     "data": {
      "image/png": "[encoded data removed]",
      "text/plain": [
       "<Figure size 640x480 with 2 Axes>"
      ]
     },
     "metadata": {},
     "output_type": "display_data"
    }
   ],
   "source": [
    "# Visualize the data\n",
    "plt.imshow(np.array(a).reshape(5, 6), cmap='gray')\n",
    "plt.colorbar()  # Optional: add a color bar\n",
    "plt.show()"
   ]
  },
  {
   "cell_type": "code",
   "execution_count": 7,
   "id": "045b78a8",
   "metadata": {},
   "outputs": [],
   "source": [
    "# Define the sigmoid function\n",
    "def sigmoid(x):\n",
    "    return 1 / (1 + np.exp(-x))"
   ]
  },
  {
   "cell_type": "code",
   "execution_count": 8,
   "id": "1769924e",
   "metadata": {},
   "outputs": [],
   "source": [
    "# Forward propagation\n",
    "def f_forward(x, w1, w2):\n",
    "    # Hidden layer\n",
    "    z1 = x.dot(w1)\n",
    "    a1 = sigmoid(z1)\n",
    "    # Output layer\n",
    "    z2 = a1.dot(w2)\n",
    "    a2 = sigmoid(z2)\n",
    "    return a2"
   ]
  },
  {
   "cell_type": "code",
   "execution_count": 9,
   "id": "e5a0d17a",
   "metadata": {},
   "outputs": [],
   "source": [
    "# Generate random weights\n",
    "def generate_wt(x, y):\n",
    "    return np.random.randn(x, y)"
   ]
  },
  {
   "cell_type": "code",
   "execution_count": 10,
   "id": "daab27e3",
   "metadata": {},
   "outputs": [],
   "source": [
    "# Define loss function\n",
    "def loss(out, y):\n",
    "    s = np.square(out - y)\n",
    "    s = np.sum(s) / len(y)\n",
    "    return s"
   ]
  },
  {
   "cell_type": "code",
   "execution_count": 11,
   "id": "9b25c5f5",
   "metadata": {},
   "outputs": [],
   "source": [
    "# Backpropagation\n",
    "def back_prop(x, y, w1, w2, alpha):\n",
    "    z1 = x.dot(w1)\n",
    "    a1 = sigmoid(z1)\n",
    "    z2 = a1.dot(w2)\n",
    "    a2 = sigmoid(z2)\n",
    "    d2 = (a2 - y)\n",
    "    d1 = np.multiply(w2.dot(d2.transpose()).transpose(), (np.multiply(a1, 1 - a1)))\n",
    "    w1_adj = x.transpose().dot(d1)\n",
    "    w2_adj = a1.transpose().dot(d2)\n",
    "    w1 = w1 - (alpha * w1_adj)\n",
    "    w2 = w2 - (alpha * w2_adj)\n",
    "    return w1, w2"
   ]
  },
  {
   "cell_type": "code",
   "execution_count": 12,
   "id": "bee7deed",
   "metadata": {},
   "outputs": [],
   "source": [
    "# Training\n",
    "def train(x, y, w1, w2, alpha=0.01, epoch=10):\n",
    "    acc = []\n",
    "    loss_val = []\n",
    "    for j in range(epoch):\n",
    "        l = []\n",
    "        for i in range(len(x)):\n",
    "            out = f_forward(x[i], w1, w2)\n",
    "            l.append(loss(out, y[i]))\n",
    "            w1, w2 = back_prop(x[i], y[i], w1, w2, alpha)\n",
    "        acc.append((1 - (sum(l) / len(x))) * 100)\n",
    "        loss_val.append(sum(l) / len(x))\n",
    "        print(\"Epochs:\", j + 1, \"acc:\", (1 - (sum(l) / len(x))) * 100)\n",
    "    return acc, loss_val, w1, w2"
   ]
  },
  {
   "cell_type": "code",
   "execution_count": 13,
   "id": "fc67a424",
   "metadata": {},
   "outputs": [],
   "source": [
    "# Predict function\n",
    "def predict(x, w1, w2):\n",
    "    out = f_forward(x, w1, w2)\n",
    "    maxm = 0\n",
    "    k = 0\n",
    "    for i in range(len(out[0])):\n",
    "        if maxm < out[0][i]:\n",
    "            maxm = out[0][i]\n",
    "            k = i\n",
    "    if k == 0:\n",
    "        print(\"A\")\n",
    "    elif k == 1:\n",
    "        print(\"B\")\n",
    "    else:\n",
    "        print(\"C\")\n",
    "    plt.imshow(x.reshape(5, 6))\n",
    "    plt.show()"
   ]
  },
  {
   "cell_type": "code",
   "execution_count": 14,
   "id": "3457bd57",
   "metadata": {},
   "outputs": [],
   "source": [
    "# Initialize weights\n",
    "w1 = generate_wt(30, 10)\n",
    "w2 = generate_wt(10, 3)"
   ]
  },
  {
   "cell_type": "code",
   "execution_count": 15,
   "id": "d72d591f",
   "metadata": {},
   "outputs": [
    {
     "name": "stdout",
     "output_type": "stream",
     "text": [
      "Epochs: 1 acc: 61.835153140293706\n",
      "Epochs: 2 acc: 62.7942685820752\n",
      "Epochs: 3 acc: 64.53273356246498\n",
      "Epochs: 4 acc: 67.1259361296452\n",
      "Epochs: 5 acc: 70.00323540699212\n",
      "Epochs: 6 acc: 72.55588563656342\n",
      "Epochs: 7 acc: 74.59554569214501\n",
      "Epochs: 8 acc: 76.21603929083575\n",
      "Epochs: 9 acc: 77.55805462006445\n",
      "Epochs: 10 acc: 78.72188986239338\n",
      "Epochs: 11 acc: 79.76523407695137\n",
      "Epochs: 12 acc: 80.71944232062914\n",
      "Epochs: 13 acc: 81.60240949123097\n",
      "Epochs: 14 acc: 82.42545484833873\n",
      "Epochs: 15 acc: 83.1964581068336\n",
      "Epochs: 16 acc: 83.92130497486231\n",
      "Epochs: 17 acc: 84.60463872264103\n",
      "Epochs: 18 acc: 85.25028728572279\n",
      "Epochs: 19 acc: 85.86150982276934\n",
      "Epochs: 20 acc: 86.4411379102132\n",
      "Epochs: 21 acc: 86.99165801476599\n",
      "Epochs: 22 acc: 87.51526360665392\n",
      "Epochs: 23 acc: 88.01389267548221\n",
      "Epochs: 24 acc: 88.48925848686572\n",
      "Epochs: 25 acc: 88.94287696790171\n",
      "Epochs: 26 acc: 89.37609188764519\n",
      "Epochs: 27 acc: 89.79009804333612\n",
      "Epochs: 28 acc: 90.18596235213606\n",
      "Epochs: 29 acc: 90.5646427246256\n",
      "Epochs: 30 acc: 90.92700467498746\n",
      "Epochs: 31 acc: 91.27383571742298\n",
      "Epochs: 32 acc: 91.60585767501107\n",
      "Epochs: 33 acc: 91.92373707728098\n",
      "Epochs: 34 acc: 92.22809384839212\n",
      "Epochs: 35 acc: 92.51950849473155\n",
      "Epochs: 36 acc: 92.79852799498111\n",
      "Epochs: 37 acc: 93.06567058230057\n",
      "Epochs: 38 acc: 93.32142959093275\n",
      "Epochs: 39 acc: 93.56627652076892\n",
      "Epochs: 40 acc: 93.8006634547634\n",
      "Epochs: 41 acc: 94.02502494642451\n",
      "Epochs: 42 acc: 94.23977947835047\n",
      "Epochs: 43 acc: 94.44533057807143\n",
      "Epochs: 44 acc: 94.64206766429612\n",
      "Epochs: 45 acc: 94.83036668497076\n",
      "Epochs: 46 acc: 95.01059059823397\n",
      "Epochs: 47 acc: 95.18308973828718\n",
      "Epochs: 48 acc: 95.34820210029325\n",
      "Epochs: 49 acc: 95.50625357156952\n",
      "Epochs: 50 acc: 95.65755813046522\n",
      "Epochs: 51 acc: 95.80241802932086\n",
      "Epochs: 52 acc: 95.94112397371491\n",
      "Epochs: 53 acc: 96.07395530672791\n",
      "Epochs: 54 acc: 96.20118020411881\n",
      "Epochs: 55 acc: 96.32305588403001\n",
      "Epochs: 56 acc: 96.43982883304781\n",
      "Epochs: 57 acc: 96.55173504906985\n",
      "Epochs: 58 acc: 96.65900030040525\n",
      "Epochs: 59 acc: 96.76184039980129\n",
      "Epochs: 60 acc: 96.86046149159414\n",
      "Epochs: 61 acc: 96.95506034987811\n",
      "Epochs: 62 acc: 97.04582468543354\n",
      "Epochs: 63 acc: 97.13293345911713\n",
      "Epochs: 64 acc: 97.21655719946611\n",
      "Epochs: 65 acc: 97.2968583223804\n",
      "Epochs: 66 acc: 97.37399145089923\n",
      "Epochs: 67 acc: 97.44810373327087\n",
      "Epochs: 68 acc: 97.51933515770827\n",
      "Epochs: 69 acc: 97.5878188624235\n",
      "Epochs: 70 acc: 97.65368143973238\n",
      "Epochs: 71 acc: 97.71704323320985\n",
      "Epochs: 72 acc: 97.7780186270572\n",
      "Epochs: 73 acc: 97.83671632700754\n",
      "Epochs: 74 acc: 97.89323963224788\n",
      "Epochs: 75 acc: 97.94768669797264\n",
      "Epochs: 76 acc: 98.00015078830425\n",
      "Epochs: 77 acc: 98.05072051942379\n",
      "Epochs: 78 acc: 98.09948009284699\n",
      "Epochs: 79 acc: 98.1465095188602\n",
      "Epochs: 80 acc: 98.19188483019936\n",
      "Epochs: 81 acc: 98.23567828611075\n",
      "Epochs: 82 acc: 98.27795856697976\n",
      "Epochs: 83 acc: 98.3187909597512\n",
      "Epochs: 84 acc: 98.35823753439554\n",
      "Epochs: 85 acc: 98.3963573116979\n",
      "Epochs: 86 acc: 98.43320642266464\n",
      "Epochs: 87 acc: 98.46883825985395\n",
      "Epochs: 88 acc: 98.50330362094495\n",
      "Epochs: 89 acc: 98.53665084486354\n",
      "Epochs: 90 acc: 98.56892594078413\n",
      "Epochs: 91 acc: 98.60017271032426\n",
      "Epochs: 92 acc: 98.63043286324572\n",
      "Epochs: 93 acc: 98.65974612696921\n",
      "Epochs: 94 acc: 98.68815035020283\n",
      "Epochs: 95 acc: 98.7156816009763\n",
      "Epochs: 96 acc: 98.74237425936359\n",
      "Epochs: 97 acc: 98.7682611051668\n",
      "Epochs: 98 acc: 98.79337340082411\n",
      "Epochs: 99 acc: 98.81774096979368\n",
      "Epochs: 100 acc: 98.84139227065552\n"
     ]
    },
    {
     "data": {
      "image/png": "[encoded data removed]",
      "text/plain": [
       "<Figure size 640x480 with 1 Axes>"
      ]
     },
     "metadata": {},
     "output_type": "display_data"
    }
   ],
   "source": [
    "# Train the model\n",
    "acc, loss_val, w1, w2 = train(x, y, w1, w2, 0.1, 100)\n",
    "import matplotlib.pyplot as plt\n",
    "plt.plot(loss_val)\n",
    "plt.ylabel(\"Loss\")\n",
    "plt.xlabel(\"Epochs:\")\n",
    "plt.show()"
   ]
  },
  {
   "cell_type": "code",
   "execution_count": 16,
   "id": "3f3e6853",
   "metadata": {},
   "outputs": [
    {
     "data": {
      "image/png": "[encoded data removed]",
      "text/plain": [
       "<Figure size 640x480 with 1 Axes>"
      ]
     },
     "metadata": {},
     "output_type": "display_data"
    }
   ],
   "source": [
    "import matplotlib.pyplot as plt1\n",
    "plt1.plot(acc)\n",
    "plt.ylabel(\"Accuracy\")\n",
    "plt.xlabel(\"Epochs:\")\n",
    "plt.show()"
   ]
  },
  {
   "cell_type": "code",
   "execution_count": 17,
   "id": "1ed76acd",
   "metadata": {},
   "outputs": [
    {
     "name": "stdout",
     "output_type": "stream",
     "text": [
      "C\n"
     ]
    },
    {
     "data": {
      "image/png": "[encoded data removed]",
      "text/plain": [
       "<Figure size 640x480 with 1 Axes>"
      ]
     },
     "metadata": {},
     "output_type": "display_data"
    }
   ],
   "source": [
    "predict(x[2],w1,w2)"
   ]
  }
 ],
 "metadata": {
  "kernelspec": {
   "display_name": "Python 3 (ipykernel)",
   "language": "python",
   "name": "python3"
  },
  "language_info": {
   "codemirror_mode": {
    "name": "ipython",
    "version": 3
   },
   "file_extension": ".py",
   "mimetype": "text/x-python",
   "name": "python",
   "nbconvert_exporter": "python",
   "pygments_lexer": "ipython3",
   "version": "3.11.7"
  }
 },
 "nbformat": 4,
 "nbformat_minor": 5
}
